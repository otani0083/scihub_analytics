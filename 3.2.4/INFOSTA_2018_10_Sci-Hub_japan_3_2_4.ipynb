{
 "cells": [
  {
   "cell_type": "markdown",
   "metadata": {},
   "source": [
    "このjupyter notebookは，以下の論文3章における日本におけるSci-Hub利用状況分析に用いたプログラムです。\n",
    "\n",
    "大谷周平, 坂東 慶太. 論文海賊サイト Sci-Hub を巡る動向と日本における利用実態. 情報の科学と技術.2018, 68(10).  https://doi.org/10.18919/jkg.68.10_513\n",
    "\n",
    "Sci-Hub 2017年ダウンロードデータおよびImpactStory社によるUnpaywallのデータセットを利用して分析しています。\n",
    "\n",
    "Sci-Hub ダウンロードログデータ\n",
    "Sci Hub on Twitter: Sci-Hub download log for 2017 year https://twitter.com/Sci_Hub/status/954095639859814402\n",
    "\n",
    "Unpaywallのデータセット\n",
    "Priem, Jason and Piwowar, Heather. (2018) The Unpaywall Dataset. DOI: https://doi.org/10.6084/m9.figshare.6020078\n"
   ]
  },
  {
   "cell_type": "markdown",
   "metadata": {},
   "source": [
    "必要なライブラリのインポート"
   ]
  },
  {
   "cell_type": "code",
   "execution_count": 2,
   "metadata": {},
   "outputs": [],
   "source": [
    "import pandas as pd\n",
    "import numpy as np\n",
    "import seaborn as sns\n",
    "import folium\n",
    "import sqlite3\n",
    "import math\n",
    "import matplotlib\n",
    "import matplotlib.pyplot as plt\n",
    "import datetime as dt\n",
    "import pickle\n",
    "import matplotlib.font_manager\n",
    "sns.set(font='IPAexGothic')"
   ]
  },
  {
   "cell_type": "markdown",
   "metadata": {},
   "source": [
    "2017年6月の時間帯別利用状況\n"
   ]
  },
  {
   "cell_type": "code",
   "execution_count": 3,
   "metadata": {},
   "outputs": [],
   "source": [
    "dbname = \"data_anlytics.db\"\n",
    "conn = sqlite3.connect(dbname)\n",
    "conn.row_factory = sqlite3.Row\n",
    "c = conn.cursor()"
   ]
  },
  {
   "cell_type": "code",
   "execution_count": 19,
   "metadata": {},
   "outputs": [],
   "source": [
    "df=pd.read_sql_query(\"select * from 'scihubjapanoadoi'\", conn, index_col=[\"date\"], parse_dates=[\"date\"])"
   ]
  },
  {
   "cell_type": "code",
   "execution_count": 5,
   "metadata": {},
   "outputs": [
    {
     "data": {
      "text/plain": [
       "(1271346, 25)"
      ]
     },
     "execution_count": 5,
     "metadata": {},
     "output_type": "execute_result"
    }
   ],
   "source": [
    "df.shape"
   ]
  },
  {
   "cell_type": "code",
   "execution_count": 9,
   "metadata": {},
   "outputs": [],
   "source": [
    "def preprocess_month(x):#マルチインデックスを作成して、月・時間単位の分析を行う\n",
    "    df_m = x.set_index([x.index.month, x.index.day,x.index.weekday_name,x.index.hour,x.index,x.index.year])\n",
    "    df_m.index.names = ['month', 'day','weekday','hour','date','year1']#yearは重複するのでyear1に。\n",
    "    return df_m"
   ]
  },
  {
   "cell_type": "code",
   "execution_count": 20,
   "metadata": {},
   "outputs": [
    {
     "data": {
      "text/plain": [
       "DatetimeIndex(['2017-06-01 09:01:35', '2017-06-01 09:01:35',\n",
       "               '2017-06-01 09:01:39', '2017-06-01 09:01:43',\n",
       "               '2017-06-01 09:03:01', '2017-06-01 09:03:23',\n",
       "               '2017-06-01 09:05:09', '2017-06-01 09:07:11',\n",
       "               '2017-06-01 09:07:57', '2017-06-01 09:10:29',\n",
       "               ...\n",
       "               '2017-06-29 08:54:22', '2017-06-29 08:54:40',\n",
       "               '2017-06-29 08:54:57', '2017-06-29 08:55:08',\n",
       "               '2017-06-29 08:55:14', '2017-06-29 08:55:31',\n",
       "               '2017-06-29 08:56:24', '2017-06-29 08:57:20',\n",
       "               '2017-06-29 08:58:34', '2017-06-29 08:58:44'],\n",
       "              dtype='datetime64[ns]', name='date', length=119578, freq=None)"
      ]
     },
     "execution_count": 20,
     "metadata": {},
     "output_type": "execute_result"
    }
   ],
   "source": [
    "a=df[\"2017/06/01\":\"2017/06/28\"]#4週間分にデータを限定\n",
    "a.index = a.index.tz_localize('UTC')\n",
    "a.index=a.index.tz_convert('Asia/Tokyo')\n",
    "a.index.tz_localize(None) #UTCから日本時間に変換。タイムゾーンを削除してローカル日時に変換\n"
   ]
  },
  {
   "cell_type": "code",
   "execution_count": 22,
   "metadata": {},
   "outputs": [
    {
     "ename": "AttributeError",
     "evalue": "'DataFrame' object has no attribute 'date'",
     "output_type": "error",
     "traceback": [
      "\u001b[0;31m---------------------------------------------------------------------------\u001b[0m",
      "\u001b[0;31mAttributeError\u001b[0m                            Traceback (most recent call last)",
      "\u001b[0;32m<ipython-input-22-b271a86b7043>\u001b[0m in \u001b[0;36m<module>\u001b[0;34m()\u001b[0m\n\u001b[0;32m----> 1\u001b[0;31m \u001b[0mb\u001b[0m\u001b[0;34m=\u001b[0m\u001b[0ma\u001b[0m\u001b[0;34m[\u001b[0m\u001b[0;34m\"doi\"\u001b[0m\u001b[0;34m]\u001b[0m\u001b[0;34m.\u001b[0m\u001b[0mgroupby\u001b[0m\u001b[0;34m(\u001b[0m\u001b[0;34m[\u001b[0m\u001b[0ma\u001b[0m\u001b[0;34m.\u001b[0m\u001b[0mdate\u001b[0m\u001b[0;34m.\u001b[0m\u001b[0mdt\u001b[0m\u001b[0;34m.\u001b[0m\u001b[0mweekday\u001b[0m\u001b[0;34m.\u001b[0m\u001b[0mrename\u001b[0m\u001b[0;34m(\u001b[0m\u001b[0;34m'weekday'\u001b[0m\u001b[0;34m)\u001b[0m\u001b[0;34m,\u001b[0m\u001b[0ma\u001b[0m\u001b[0;34m.\u001b[0m\u001b[0mdate\u001b[0m\u001b[0;34m.\u001b[0m\u001b[0mdt\u001b[0m\u001b[0;34m.\u001b[0m\u001b[0mhour\u001b[0m\u001b[0;34m.\u001b[0m\u001b[0mrename\u001b[0m\u001b[0;34m(\u001b[0m\u001b[0;34m'hour'\u001b[0m\u001b[0;34m)\u001b[0m\u001b[0;34m]\u001b[0m\u001b[0;34m)\u001b[0m\u001b[0;34m.\u001b[0m\u001b[0mcount\u001b[0m\u001b[0;34m(\u001b[0m\u001b[0;34m)\u001b[0m\u001b[0;34m\u001b[0m\u001b[0m\n\u001b[0m\u001b[1;32m      2\u001b[0m \u001b[0mc\u001b[0m\u001b[0;34m=\u001b[0m\u001b[0;34m{\u001b[0m\u001b[0;34m}\u001b[0m\u001b[0;34m\u001b[0m\u001b[0m\n\u001b[1;32m      3\u001b[0m \u001b[0mcounter\u001b[0m\u001b[0;34m=\u001b[0m\u001b[0;34m\"None\"\u001b[0m\u001b[0;34m\u001b[0m\u001b[0m\n\u001b[1;32m      4\u001b[0m \u001b[0mcounter_value\u001b[0m\u001b[0;34m=\u001b[0m\u001b[0;32mNone\u001b[0m\u001b[0;34m\u001b[0m\u001b[0m\n\u001b[1;32m      5\u001b[0m \u001b[0mcounter_list\u001b[0m\u001b[0;34m=\u001b[0m\u001b[0;34m[\u001b[0m\u001b[0;34m]\u001b[0m\u001b[0;34m\u001b[0m\u001b[0m\n",
      "\u001b[0;32m//anaconda/lib/python3.5/site-packages/pandas/core/generic.py\u001b[0m in \u001b[0;36m__getattr__\u001b[0;34m(self, name)\u001b[0m\n\u001b[1;32m   4370\u001b[0m             \u001b[0;32mif\u001b[0m \u001b[0mself\u001b[0m\u001b[0;34m.\u001b[0m\u001b[0m_info_axis\u001b[0m\u001b[0;34m.\u001b[0m\u001b[0m_can_hold_identifiers_and_holds_name\u001b[0m\u001b[0;34m(\u001b[0m\u001b[0mname\u001b[0m\u001b[0;34m)\u001b[0m\u001b[0;34m:\u001b[0m\u001b[0;34m\u001b[0m\u001b[0m\n\u001b[1;32m   4371\u001b[0m                 \u001b[0;32mreturn\u001b[0m \u001b[0mself\u001b[0m\u001b[0;34m[\u001b[0m\u001b[0mname\u001b[0m\u001b[0;34m]\u001b[0m\u001b[0;34m\u001b[0m\u001b[0m\n\u001b[0;32m-> 4372\u001b[0;31m             \u001b[0;32mreturn\u001b[0m \u001b[0mobject\u001b[0m\u001b[0;34m.\u001b[0m\u001b[0m__getattribute__\u001b[0m\u001b[0;34m(\u001b[0m\u001b[0mself\u001b[0m\u001b[0;34m,\u001b[0m \u001b[0mname\u001b[0m\u001b[0;34m)\u001b[0m\u001b[0;34m\u001b[0m\u001b[0m\n\u001b[0m\u001b[1;32m   4373\u001b[0m \u001b[0;34m\u001b[0m\u001b[0m\n\u001b[1;32m   4374\u001b[0m     \u001b[0;32mdef\u001b[0m \u001b[0m__setattr__\u001b[0m\u001b[0;34m(\u001b[0m\u001b[0mself\u001b[0m\u001b[0;34m,\u001b[0m \u001b[0mname\u001b[0m\u001b[0;34m,\u001b[0m \u001b[0mvalue\u001b[0m\u001b[0;34m)\u001b[0m\u001b[0;34m:\u001b[0m\u001b[0;34m\u001b[0m\u001b[0m\n",
      "\u001b[0;31mAttributeError\u001b[0m: 'DataFrame' object has no attribute 'date'"
     ]
    }
   ],
   "source": [
    "b=a[\"doi\"].groupby([a.date.dt.weekday.rename('weekday'),a.date.dt.hour.rename('hour')]).count()\n",
    "c={}\n",
    "counter=\"None\"\n",
    "counter_value=None\n",
    "counter_list=[]\n",
    "for column_name, item in b.iteritems():\n",
    "    if counter != column_name[0]:\n",
    "        c[counter]=counter_list\n",
    "        counter_list=[]\n",
    "        counter = column_name[0]\n",
    "        counter_value=item\n",
    "        counter_list.append(counter_value)\n",
    "    else:\n",
    "        counter_value=item\n",
    "        counter_list.append(counter_value)\n",
    "c[counter]=counter_list\n",
    "del c[\"None\"]\n",
    "d=pd.DataFrame(c)\n",
    "d=d.ix[:,[\"Monday\",\"Tuesday\",\"Wednesday\",\"Thursday\",\"Friday\",\"Saturday\",\"Sunday\"]]\n",
    "d=d.rename(columns={\"Monday\":\"月\",\"Tuesday\":\"火\",\"Wednesday\":\"水\",\"Thursday\":\"木\",\"Friday\":\"金\",\"Saturday\":\"土\",\"Sunday\":\"日\"})\n",
    "sns.heatmap(d,cmap=\"Reds\")"
   ]
  },
  {
   "cell_type": "code",
   "execution_count": null,
   "metadata": {},
   "outputs": [],
   "source": []
  }
 ],
 "metadata": {
  "kernelspec": {
   "display_name": "Python [conda env:anaconda]",
   "language": "python",
   "name": "conda-env-anaconda-py"
  },
  "language_info": {
   "codemirror_mode": {
    "name": "ipython",
    "version": 3
   },
   "file_extension": ".py",
   "mimetype": "text/x-python",
   "name": "python",
   "nbconvert_exporter": "python",
   "pygments_lexer": "ipython3",
   "version": "3.5.5"
  },
  "toc": {
   "base_numbering": 1,
   "nav_menu": {},
   "number_sections": true,
   "sideBar": true,
   "skip_h1_title": false,
   "title_cell": "Table of Contents",
   "title_sidebar": "Contents",
   "toc_cell": false,
   "toc_position": {},
   "toc_section_display": true,
   "toc_window_display": false
  }
 },
 "nbformat": 4,
 "nbformat_minor": 2
}
