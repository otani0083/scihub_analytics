{
 "cells": [
  {
   "cell_type": "markdown",
   "metadata": {},
   "source": [
    "このjupyter notebookは，以下の論文3章における日本におけるSci-Hub利用状況分析に用いたプログラムです。\n",
    "\n",
    "大谷周平, 坂東 慶太. 論文海賊サイト Sci-Hub を巡る動向と日本における利用実態. 情報の科学と技術.2018, 68(10).  https://doi.org/10.18919/jkg.68.10_513\n",
    "\n",
    "Sci-Hub 2017年ダウンロードデータおよびImpactStory社によるUnpaywallのデータセットを利用して分析しています。\n",
    "\n",
    "Sci-Hub ダウンロードログデータ\n",
    "Sci Hub on Twitter: Sci-Hub download log for 2017 year https://twitter.com/Sci_Hub/status/954095639859814402\n",
    "\n",
    "Unpaywallのデータセット\n",
    "Priem, Jason and Piwowar, Heather. (2018) The Unpaywall Dataset. DOI: https://doi.org/10.6084/m9.figshare.6020078\n"
   ]
  },
  {
   "cell_type": "markdown",
   "metadata": {},
   "source": [
    "必要なライブラリのインポート"
   ]
  },
  {
   "cell_type": "code",
   "execution_count": 2,
   "metadata": {},
   "outputs": [],
   "source": [
    "import pandas as pd\n",
    "import numpy as np\n",
    "import seaborn as sns\n",
    "import folium\n",
    "import sqlite3\n",
    "import math\n",
    "import matplotlib\n",
    "import matplotlib.pyplot as plt\n",
    "import datetime as dt\n",
    "import pickle\n",
    "import matplotlib.font_manager\n",
    "sns.set(font='IPAexGothic')"
   ]
  },
  {
   "cell_type": "markdown",
   "metadata": {},
   "source": [
    "3.2.5\n",
    "地理情報の可視化"
   ]
  },
  {
   "cell_type": "code",
   "execution_count": 3,
   "metadata": {},
   "outputs": [],
   "source": [
    "dbname = \"data_anlytics.db\"\n",
    "conn = sqlite3.connect(dbname)\n",
    "conn.row_factory = sqlite3.Row\n",
    "c = conn.cursor()"
   ]
  },
  {
   "cell_type": "code",
   "execution_count": 4,
   "metadata": {},
   "outputs": [],
   "source": [
    "df=pd.read_sql_query(\"select * from 'scihubjapanoadoi'\", conn, index_col=[\"date\"], parse_dates=[\"date\"])"
   ]
  },
  {
   "cell_type": "code",
   "execution_count": 5,
   "metadata": {},
   "outputs": [],
   "source": [
    "df_map=df[[\"doi\",\"latitude\",\"longitude\"]]"
   ]
  },
  {
   "cell_type": "code",
   "execution_count": 6,
   "metadata": {},
   "outputs": [],
   "source": [
    "df_map=df_map.groupby([\"latitude\",\"longitude\"],as_index=False).count()"
   ]
  },
  {
   "cell_type": "code",
   "execution_count": 7,
   "metadata": {},
   "outputs": [],
   "source": [
    "m = folium.Map(location=[35.55, 139.49], zoom_start=5)"
   ]
  },
  {
   "cell_type": "code",
   "execution_count": null,
   "metadata": {},
   "outputs": [],
   "source": [
    "for i, r in df_map.iterrows():\n",
    "    if r['latitude'] != 'N/A':\n",
    "        folium.CircleMarker(location=[float(r['latitude']), float(r['longitude'])],radius=math.sqrt(math.sqrt(r['doi']))).add_to(m)#円の大きさの調整のため、4重根を\n",
    "m"
   ]
  }
 ],
 "metadata": {
  "kernelspec": {
   "display_name": "Python [conda env:anaconda]",
   "language": "python",
   "name": "conda-env-anaconda-py"
  },
  "language_info": {
   "codemirror_mode": {
    "name": "ipython",
    "version": 3
   },
   "file_extension": ".py",
   "mimetype": "text/x-python",
   "name": "python",
   "nbconvert_exporter": "python",
   "pygments_lexer": "ipython3",
   "version": "3.5.5"
  },
  "toc": {
   "base_numbering": 1,
   "nav_menu": {},
   "number_sections": true,
   "sideBar": true,
   "skip_h1_title": false,
   "title_cell": "Table of Contents",
   "title_sidebar": "Contents",
   "toc_cell": false,
   "toc_position": {},
   "toc_section_display": true,
   "toc_window_display": false
  }
 },
 "nbformat": 4,
 "nbformat_minor": 2
}
